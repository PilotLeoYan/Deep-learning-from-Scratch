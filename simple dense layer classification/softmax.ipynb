{
 "cells": [
  {
   "cell_type": "code",
   "execution_count": 2,
   "metadata": {},
   "outputs": [],
   "source": [
    "import tensorflow as tf\n",
    "import torch\n",
    "import numpy as np\n",
    "\n",
    "tf.keras.config.set_floatx('float64')\n",
    "torch.set_default_dtype(torch.float64)"
   ]
  },
  {
   "cell_type": "markdown",
   "metadata": {},
   "source": [
    "# Softmax function"
   ]
  },
  {
   "cell_type": "markdown",
   "metadata": {},
   "source": [
    "## One example/entry"
   ]
  },
  {
   "cell_type": "code",
   "execution_count": 3,
   "metadata": {},
   "outputs": [
    {
     "data": {
      "text/plain": [
       "(array([[1.61124441, 1.9986418 , 2.17121789, 2.18079716]]), dtype('float64'))"
      ]
     },
     "execution_count": 3,
     "metadata": {},
     "output_type": "execute_result"
    }
   ],
   "source": [
    "N = 4\n",
    "X = np.random.random((1, N)) * 3\n",
    "X, X.dtype"
   ]
  },
  {
   "cell_type": "code",
   "execution_count": 4,
   "metadata": {},
   "outputs": [
    {
     "data": {
      "text/plain": [
       "array([[0.16691024, 0.24588245, 0.29219741, 0.2950099 ]])"
      ]
     },
     "execution_count": 4,
     "metadata": {},
     "output_type": "execute_result"
    }
   ],
   "source": [
    "SOFTMAX = tf.keras.layers.Softmax()\n",
    "SOFTMAX(X).numpy()"
   ]
  },
  {
   "cell_type": "markdown",
   "metadata": {},
   "source": [
    "Softmax\n",
    "$$\n",
    "\\text{softmax}(\\boldsymbol{o})_j = \\frac{\\exp(o)_j}{\\sum_{k=1}^{q} \\exp(o_k)}\n",
    "$$\n",
    "where $q$ is the number of clases"
   ]
  },
  {
   "cell_type": "code",
   "execution_count": 5,
   "metadata": {},
   "outputs": [
    {
     "data": {
      "text/plain": [
       "array([[0.16691024, 0.24588245, 0.29219741, 0.2950099 ]])"
      ]
     },
     "execution_count": 5,
     "metadata": {},
     "output_type": "execute_result"
    }
   ],
   "source": [
    "def softmax_1(o):\n",
    "    expo = torch.exp(o)\n",
    "    return expo / expo.sum()\n",
    "\n",
    "softmax_1(torch.tensor(X)).numpy()"
   ]
  },
  {
   "cell_type": "code",
   "execution_count": 6,
   "metadata": {},
   "outputs": [
    {
     "name": "stdout",
     "output_type": "stream",
     "text": [
      "4.7041769595653436e-15\n"
     ]
    }
   ],
   "source": [
    "tf_res = SOFTMAX(X).numpy()\n",
    "my_res = softmax_1(torch.tensor(X)).numpy()\n",
    "\n",
    "print(np.mean(np.abs((tf_res - my_res) / tf_res)) * 100)\n",
    "\n",
    "del tf_res\n",
    "del my_res"
   ]
  },
  {
   "cell_type": "markdown",
   "metadata": {},
   "source": [
    "## Softmax over matrices"
   ]
  },
  {
   "cell_type": "code",
   "execution_count": 7,
   "metadata": {},
   "outputs": [
    {
     "data": {
      "text/plain": [
       "((100, 4), dtype('float64'))"
      ]
     },
     "execution_count": 7,
     "metadata": {},
     "output_type": "execute_result"
    }
   ],
   "source": [
    "M = 100\n",
    "X2 = np.random.random((M, N)) * 4\n",
    "X2.shape, X2.dtype"
   ]
  },
  {
   "cell_type": "code",
   "execution_count": 8,
   "metadata": {},
   "outputs": [],
   "source": [
    "def softmax_2(o):\n",
    "    exp = torch.exp(o)\n",
    "    return exp / torch.sum(exp, dim=-1, keepdim=True)"
   ]
  },
  {
   "cell_type": "code",
   "execution_count": 9,
   "metadata": {},
   "outputs": [
    {
     "name": "stdout",
     "output_type": "stream",
     "text": [
      "1.1082225706535181e-14\n"
     ]
    }
   ],
   "source": [
    "tf_res = SOFTMAX(X2).numpy()\n",
    "my_res = softmax_2(torch.tensor(X2)).numpy()\n",
    "\n",
    "print(np.mean(np.abs((tf_res - my_res) / tf_res)) * 100)\n",
    "\n",
    "del tf_res\n",
    "del my_res"
   ]
  },
  {
   "cell_type": "markdown",
   "metadata": {},
   "source": [
    "# Softmax derivative"
   ]
  },
  {
   "cell_type": "markdown",
   "metadata": {},
   "source": [
    "## $\\frac{\\partial \\text{softmax}(o)_j}{\\partial \\boldsymbol{o}}$\n",
    "\n",
    "The derivative one softmax output with respect input"
   ]
  },
  {
   "cell_type": "code",
   "execution_count": 10,
   "metadata": {},
   "outputs": [
    {
     "data": {
      "text/plain": [
       "torch.Size([1, 4])"
      ]
     },
     "execution_count": 10,
     "metadata": {},
     "output_type": "execute_result"
    }
   ],
   "source": [
    "POINT = 2 # Point is the features number 2\n",
    "\n",
    "X3 = torch.rand((1, N)) * 4 + 1\n",
    "X3.requires_grad_(True)\n",
    "\n",
    "Y = torch.exp(X3[0,POINT]) / torch.sum(torch.exp(X3), dim=1, keepdim=True)\n",
    "Y.backward(torch.ones_like(Y))\n",
    "\n",
    "gradient = X3.grad\n",
    "\n",
    "gradient.shape"
   ]
  },
  {
   "cell_type": "markdown",
   "metadata": {},
   "source": [
    "$$\n",
    "\\frac{\\partial \\text{softmax}(o)_j}{\\partial \\boldsymbol{o}} \\in (1, q)\n",
    "$$\n",
    "\n",
    "because $\\boldsymbol{o} \\in (1, q)$ and $\\text{softmax}(o)_j \\in \\mathbb{R}$\n",
    "<br> <br>\n",
    "Then, the jacobian in **Denominator layout** is:\n",
    "$$\n",
    "\\frac{\\partial \\text{softmax}(o)_j}{\\partial \\boldsymbol{o}} = \\begin{bmatrix}\n",
    "\\frac{\\partial \\text{softmax}(o)_j}{\\partial o_1} & \\cdots & \\frac{\\partial \\text{softmax}(o)_j}{\\partial o_j} & \\cdots & \\frac{\\partial \\text{softmax}(o)_j}{\\partial o_q}\n",
    "\\end{bmatrix}\n",
    "$$\n",
    "\n",
    "there are two diferente types of the derivatives:\n",
    "1. $\\frac{\\partial \\text{softmax}(o)_j}{\\partial o_{i=j}}$\n",
    "2. $\\frac{\\partial \\text{softmax}(o)_j}{\\partial o_{i\\neq j}}$"
   ]
  },
  {
   "cell_type": "markdown",
   "metadata": {},
   "source": [
    "$\\frac{\\partial \\text{softmax}(o)_j}{\\partial o_{i=j}}$\n",
    "\n",
    "$$\n",
    "\\frac{\\partial \\text{softmax}(o)_j}{\\partial o_{i=j}} = \\text{softmax}(o)_j\\left (1-\\text{softmax}(o)_j \\right)\n",
    "$$\n",
    "\n",
    "$\\frac{\\partial \\text{softmax}(o)_j}{\\partial o_{i\\neq j}}$\n",
    "\n",
    "$$\n",
    "\\frac{\\partial \\text{softmax}(o)_j}{\\partial o_{i\\neq j}} = -\\text{softmax}(o)_j \\text{softmax}(o_i)\n",
    "$$\n",
    "\n",
    "Therefore:\n",
    "$$\n",
    "\\frac{\\partial \\text{softmax}(o)_j}{\\partial \\boldsymbol{o}} = \\begin{bmatrix}\n",
    "-\\text{softmax}(o)_j \\text{softmax}(o_1) & \\cdots & \\text{softmax}(o)_j\\left (1-\\text{softmax}(o)_j \\right) & \\cdots & -\\text{softmax}(o)_j \\text{softmax}(o_q)\n",
    "\\end{bmatrix}\n",
    "$$"
   ]
  },
  {
   "cell_type": "markdown",
   "metadata": {},
   "source": [
    "Vectorized form:\n",
    "$$\n",
    "\\frac{\\partial \\text{softmax}(o)_j}{\\partial \\boldsymbol{o}} = \\text{softmax}(o)_j \\odot \\begin{bmatrix}\n",
    "-\\text{softmax}(o_1) & \\cdots & 1-\\text{softmax}(o)_j & \\cdots & -\\text{softmax}(o_q)\n",
    "\\end{bmatrix}\n",
    "$$"
   ]
  },
  {
   "cell_type": "code",
   "execution_count": 11,
   "metadata": {},
   "outputs": [
    {
     "data": {
      "text/plain": [
       "array([[-0.01709643, -0.1193966 ,  0.15512242, -0.01862939]])"
      ]
     },
     "execution_count": 11,
     "metadata": {},
     "output_type": "execute_result"
    }
   ],
   "source": [
    "gradient.numpy()"
   ]
  },
  {
   "cell_type": "code",
   "execution_count": 12,
   "metadata": {},
   "outputs": [
    {
     "data": {
      "text/plain": [
       "array([[-0.01709643, -0.1193966 ,  0.15512242, -0.01862939]])"
      ]
     },
     "execution_count": 12,
     "metadata": {},
     "output_type": "execute_result"
    }
   ],
   "source": [
    "def softmax_derivative_1(o, point):\n",
    "    soft = softmax_1(o) #get normal softmax function\n",
    "    soft_point = soft[0, point].item() #get particular softmax(o)_j\n",
    "    soft *= -1\n",
    "    soft[0,point] += 1 #sum 1 to particular softmax(o)_j\n",
    "    return soft_point * (soft) #Hadamard product\n",
    "\n",
    "softmax_derivative_1(X3, POINT).detach().numpy()"
   ]
  },
  {
   "cell_type": "code",
   "execution_count": 13,
   "metadata": {},
   "outputs": [
    {
     "name": "stdout",
     "output_type": "stream",
     "text": [
      "4.65587947277312e-15\n"
     ]
    }
   ],
   "source": [
    "my_grad = softmax_derivative_1(X3, POINT).detach().numpy()\n",
    "\n",
    "print(np.mean(np.abs((gradient.numpy() - my_grad) / gradient.numpy())) * 100)\n",
    "\n",
    "del my_grad"
   ]
  },
  {
   "cell_type": "markdown",
   "metadata": {},
   "source": [
    "## $\\frac{\\partial \\text{softmax}(\\boldsymbol{o})}{\\partial \\boldsymbol{o}}$\n",
    "\n",
    "The derivative softmax outputs with respect input"
   ]
  },
  {
   "cell_type": "code",
   "execution_count": 24,
   "metadata": {},
   "outputs": [
    {
     "data": {
      "text/plain": [
       "torch.Size([1, 4])"
      ]
     },
     "execution_count": 24,
     "metadata": {},
     "output_type": "execute_result"
    }
   ],
   "source": [
    "X4 = torch.rand((1, N)) * 4 + 1\n",
    "X4.requires_grad_(True)\n",
    "\n",
    "Y2 = torch.exp(X4) / torch.sum(torch.exp(X4), dim=1, keepdim=True)\n",
    "Y2.backward(torch.ones_like(Y2))\n",
    "\n",
    "gradient = X4.grad\n",
    "\n",
    "gradient.shape"
   ]
  },
  {
   "cell_type": "code",
   "execution_count": 25,
   "metadata": {},
   "outputs": [
    {
     "data": {
      "text/plain": [
       "array([[5.55111512e-17, 5.55111512e-17, 0.00000000e+00, 1.38777878e-17]])"
      ]
     },
     "execution_count": 25,
     "metadata": {},
     "output_type": "execute_result"
    }
   ],
   "source": [
    "gradient.numpy()"
   ]
  },
  {
   "cell_type": "code",
   "execution_count": null,
   "metadata": {},
   "outputs": [],
   "source": [
    "t1 = "
   ]
  },
  {
   "cell_type": "markdown",
   "metadata": {},
   "source": [
    "# Appendix A"
   ]
  },
  {
   "cell_type": "markdown",
   "metadata": {},
   "source": [
    "$$\n",
    "\\begin{align}\n",
    "\\boldsymbol{o}_i \\in \\mathbb{R} \\\\\n",
    "\\text{softmax}(\\boldsymbol{o})_j \\in \\mathbb{R}\n",
    "\\end{align} \n",
    "$$\n",
    "\n",
    "then\n",
    "$$\n",
    "\\frac{\\partial \\text{softmax}(o)_j}{\\partial o_{i=j}} \\in \\mathbb{R}\n",
    "$$\n",
    "\n",
    "Derivative for this case $i=j$:\n",
    "$$\n",
    "\\begin{align}\n",
    "\\frac{\\partial \\text{softmax}(o)_j}{\\partial o_{i=j}} &= \\frac{\\partial}{\\partial o_j} \\left(\\frac{\\exp(o_j)}{\\sum_{k=1}^{q} \\exp{o_i}} \\right) \\\\\n",
    "&= \\frac{\\frac{\\partial}{\\partial o_j}(\\exp{(o_j)}) \\sum_{k=1}^{q} \\exp{(o_k)} -\\exp{(o_j)} \\frac{\\partial}{\\partial o_j} (\\sum_{k=1}^{q} \\exp{(o_k)})}{\\left( \\sum_{k=1}^{q} \\exp{(o_k)} \\right)^2} \\\\\n",
    "&= \\frac{\\exp{(o_j)} (\\sum_{k=1}^{q} \\exp{(o_k)}) -\\exp{(o_j)}^2}{\\left( \\sum_{k=1}^{q} \\exp{(o_k)} \\right)^2} \\\\\n",
    "&= \\frac{\\exp{(o_j)} \\left( (\\sum_{k=1}^{q} \\exp{(o_k)}) -\\exp{(o_j)} \\right)}{\\left( \\sum_{k=1}^{q} \\exp{(o_k)} \\right)^2} \\\\\n",
    "&= \\frac{\\exp{(o_j)}}{\\sum_{k=1}^{q} \\exp{(o_k)}} \\left( \\frac{\\sum_{k=1}^{q} \\exp{(o_k)} -\\exp{(o_j)}}{\\sum_{k=1}^{q} \\exp{(o_k)}} \\right)\\\\\n",
    "&= \\text{softmax}(o)_j \\left(\\frac{\\sum_{k=1}^{q} \\exp{(o_k)}}{\\sum_{k=1}^{q} \\exp{(o_k)}} -\\frac{\\exp{(o_j)}}{\\sum_{k=1}^{q} \\exp{(o_k)}}\\right)\\\\\n",
    "&= \\text{softmax}(o)_j \\left(1 -\\frac{\\exp{(o_j)}}{\\sum_{k=1}^{q} \\exp{(o_k)}}\\right)\\\\\n",
    "&= \\text{softmax}(o)_j\\left (1-\\text{softmax}(o)_j \\right)\n",
    "\\end{align}\n",
    "$$"
   ]
  },
  {
   "cell_type": "markdown",
   "metadata": {},
   "source": [
    "$$\n",
    "\\frac{\\partial \\text{softmax}(o)_j}{\\partial o_{i\\neq j}} \\in \\mathbb{R}\n",
    "$$\n",
    "\n",
    "Derivative for this case $i\\neq j$:\n",
    "$$\n",
    "\\begin{align}\n",
    "\\frac{\\partial \\text{softmax}(o)_j}{\\partial o_{i\\neq j}} &= \\frac{\\partial}{\\partial o_i} \\left(\\frac{\\exp(o_j)}{\\sum_{k=1}^{q} \\exp{o_i}} \\right) \\\\\n",
    "&= \\frac{\\frac{\\partial}{\\partial o_i}(\\exp{(o_j)}) \\sum_{k=1}^{q} \\exp{(o_k)} -\\exp{(o_j)} \\frac{\\partial}{\\partial o_i} (\\sum_{k=1}^{q} \\exp{(o_k)})}{\\left( \\sum_{k=1}^{q} \\exp{(o_k)} \\right)^2} \\\\\n",
    "&= -\\frac{\\exp{(o_j)} \\exp{(o_i)}}{\\left( \\sum_{k=1}^{q} \\exp{(o_k)} \\right)^2} \\\\\n",
    "&= -\\frac{\\exp{(o_j)}}{\\sum_{k=1}^{q} \\exp{(o_k)}} \\frac{\\exp{(o_i)}}{\\sum_{k=1}^{q} \\exp{(o_k)}} \\\\\n",
    "&= -\\text{softmax}(o)_j \\text{softmax}(o_i)\n",
    "\\end{align}\n",
    "$$"
   ]
  }
 ],
 "metadata": {
  "kernelspec": {
   "display_name": "Python 3",
   "language": "python",
   "name": "python3"
  },
  "language_info": {
   "codemirror_mode": {
    "name": "ipython",
    "version": 3
   },
   "file_extension": ".py",
   "mimetype": "text/x-python",
   "name": "python",
   "nbconvert_exporter": "python",
   "pygments_lexer": "ipython3",
   "version": "3.11.5"
  }
 },
 "nbformat": 4,
 "nbformat_minor": 2
}
