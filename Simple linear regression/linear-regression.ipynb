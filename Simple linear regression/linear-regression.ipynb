{
 "cells": [
  {
   "cell_type": "code",
   "execution_count": 1,
   "id": "initial_id",
   "metadata": {
    "collapsed": true
   },
   "outputs": [],
   "source": [
    "import torch\n",
    "import tensorflow as tf"
   ]
  },
  {
   "cell_type": "code",
   "execution_count": 2,
   "id": "65f07af6",
   "metadata": {},
   "outputs": [],
   "source": [
    "torch.set_default_dtype(torch.float64)\n",
    "tf.keras.config.set_floatx('float64')"
   ]
  },
  {
   "cell_type": "code",
   "execution_count": 3,
   "id": "256a4eb0",
   "metadata": {},
   "outputs": [],
   "source": [
    "def add_to_class(Class):  \n",
    "    \"\"\"Register functions as methods in created class.\"\"\"\n",
    "    def wrapper(obj):\n",
    "        setattr(Class, obj.__name__, obj)\n",
    "    return wrapper"
   ]
  },
  {
   "cell_type": "markdown",
   "id": "2f4507c5",
   "metadata": {},
   "source": [
    "# Create dataset"
   ]
  },
  {
   "cell_type": "markdown",
   "id": "a86a853a",
   "metadata": {},
   "source": [
    "Dataset\n",
    "$$\n",
    "\\begin{align*}\n",
    "\\mathbf{X} &\\in \\mathbb{R}^{M \\times N} \\\\\n",
    "\\mathbf{y} &\\in \\mathbb{R}^{M}\n",
    "\\end{align*}\n",
    "$$"
   ]
  },
  {
   "cell_type": "code",
   "execution_count": 4,
   "id": "78a6eef9",
   "metadata": {},
   "outputs": [
    {
     "name": "stdout",
     "output_type": "stream",
     "text": [
      "(100, 4)\n",
      "(100,)\n",
      "(4,)\n"
     ]
    }
   ],
   "source": [
    "from sklearn.datasets import make_regression\n",
    "import random\n",
    "\n",
    "M: int = 100 #number of samples\n",
    "N: int = 4 #number of features\n",
    "\n",
    "TRUE_B = random.random()\n",
    "\n",
    "X, Y, TRUE_W = make_regression(n_samples=M, \n",
    "                               n_features=N, \n",
    "                               n_targets=1,\n",
    "                               n_informative=N-1,\n",
    "                               bias=TRUE_B,\n",
    "                               noise=1,\n",
    "                               coef=True)\n",
    "\n",
    "print(X.shape)\n",
    "print(Y.shape)\n",
    "print(TRUE_W.shape)"
   ]
  },
  {
   "cell_type": "markdown",
   "id": "c000c71b",
   "metadata": {},
   "source": [
    "# Model"
   ]
  },
  {
   "cell_type": "markdown",
   "id": "8a0a72ed",
   "metadata": {},
   "source": [
    "## wights"
   ]
  },
  {
   "cell_type": "markdown",
   "id": "6daab31c",
   "metadata": {},
   "source": [
    "Trainables parameters\n",
    "$$\n",
    "\\begin{align*}\n",
    "\\mathbf{w} &\\in \\mathbb{R}^{N} \\\\\n",
    "b &\\in \\mathbb{R}\n",
    "\\end{align*}\n",
    "$$"
   ]
  },
  {
   "cell_type": "code",
   "execution_count": 5,
   "id": "ac7b8024",
   "metadata": {},
   "outputs": [],
   "source": [
    "class SimpleLinearRegression:\n",
    "    def __init__(self, num_features: int) -> None:\n",
    "        self.w = torch.randn(num_features)\n",
    "        self.b = torch.randn(1)\n",
    "\n",
    "    def copy_params(self, tf_model) -> None:\n",
    "        \"\"\"Copy the parameters from a TensorFlow model to this PyTorch model.\n",
    "\n",
    "        Args:\n",
    "            tf_model: A TensorFlow model from which to copy the parameters.\n",
    "\n",
    "        Returns:\n",
    "            None\n",
    "        \"\"\"\n",
    "        self.w.copy_(torch.tensor(tf_model.weights[0].numpy()))\n",
    "        self.b.copy_(torch.tensor(tf_model.weights[1].numpy()))"
   ]
  },
  {
   "cell_type": "markdown",
   "id": "c084d321",
   "metadata": {},
   "source": [
    "## weighted sum"
   ]
  },
  {
   "cell_type": "markdown",
   "id": "5eeb79fa",
   "metadata": {},
   "source": [
    "$$\n",
    "\\begin{align*}\n",
    "\\mathbf{\\hat{y}}(\\mathbf{X}) = \\mathbf{X}\\mathbf{w} + b \\\\\n",
    "\\mathbf{\\hat{y}} : \\mathbb{R}^{M \\times N} \\rightarrow \\mathbb{R}^{M}\n",
    "\\end{align*}\n",
    "$$"
   ]
  },
  {
   "cell_type": "code",
   "execution_count": 6,
   "id": "de7d50aa",
   "metadata": {},
   "outputs": [],
   "source": [
    "@add_to_class(SimpleLinearRegression)\n",
    "def predict(self, x: torch.Tensor) -> torch.Tensor:\n",
    "    \"\"\"Predict the output for input x.\n",
    "\n",
    "    Args:\n",
    "        x: Input tensor of shape (n_samples, num_features).\n",
    "\n",
    "    Returns:\n",
    "        y_pred: Predicted output tensor of shape (n_samples,).\n",
    "    \"\"\"\n",
    "    y_pred = torch.dot(x, self.w) + self.b\n",
    "    return y_pred"
   ]
  },
  {
   "cell_type": "markdown",
   "id": "aa373d19",
   "metadata": {},
   "source": [
    "## MSE"
   ]
  },
  {
   "cell_type": "markdown",
   "id": "5e377633",
   "metadata": {},
   "source": [
    "Loss function: Mean Squared Error:\n",
    "$$\n",
    "\\begin{align*}\n",
    "L(\\mathbf{\\hat{y}}) &= \\frac{1}{M} \\sum_{i=1}^{M}(\n",
    "    \\hat{y}_i - \\mathbf{\\mathbb{y}}_i)^{2} \\\\\n",
    "L &: \\mathbb{R}^{M} \\rightarrow \\mathbb{R}\n",
    "\\end{align*}\n",
    "$$\n",
    "Vectorized form:\n",
    "$$\n",
    "\\begin{align*}\n",
    "L(\\mathbf{\\hat{y}}) &= \\frac{1}{M} \n",
    "    \\left\\| \\mathbf{e} \\right\\|_{2}^2 \\\\\n",
    "\\mathbf{e} &:= \\mathbf{\\hat{y}} - \\mathbf{y}\n",
    "\\end{align*}\n",
    "$$"
   ]
  },
  {
   "cell_type": "code",
   "execution_count": 7,
   "id": "0c53d64b",
   "metadata": {},
   "outputs": [],
   "source": [
    "@add_to_class(SimpleLinearRegression)\n",
    "def evaluate(self, x: torch.Tensor, y_true: torch.Tensor) -> float:\n",
    "    \"\"\"Evaluate the model on input x and target y_true.\n",
    "\n",
    "    Args:\n",
    "        x: Input tensor of shape (n_samples, num_features).\n",
    "        y_true: Target tensor of shape (n_samples,).\n",
    "\n",
    "    Returns:\n",
    "        loss: Normalized L2 loss between predictions and true values.\n",
    "    \"\"\"\n",
    "    y_pred = self.predict(x)\n",
    "    e = y_pred - y_true\n",
    "    loss = torch.linalg.vector_norm(e, ord=2)\n",
    "    return loss.item() / len(y_true)"
   ]
  },
  {
   "cell_type": "markdown",
   "id": "aa223c59",
   "metadata": {},
   "source": [
    "## Gradient"
   ]
  },
  {
   "cell_type": "markdown",
   "id": "14877a3c",
   "metadata": {},
   "source": [
    "Using **Numerator layout notation**.\n",
    "Gradient descent is:\n",
    "$$\n",
    "\\frac{\\partial L}{\\partial \\mathbf{w}} =\n",
    "\\frac{\\partial L}{\\partial \\mathbf{\\hat{y}}}\n",
    "\\frac{\\partial \\mathbf{\\hat{y}}}{\\partial \\mathbf{w}}\n",
    "$$\n",
    "and\n",
    "$$\n",
    "\\frac{\\partial L}{\\partial b} =\n",
    "\\frac{\\partial L}{\\partial \\mathbf{\\hat{y}}}\n",
    "\\frac{\\partial \\mathbf{\\hat{y}}}{\\partial b}\n",
    "$$\n",
    "where their shaper are:\n",
    "$$\n",
    "\\frac{\\partial L}{\\partial \\mathbf{w}} \\in \\mathbb{R}^{N},\n",
    "\\frac{\\partial L}{\\partial b} \\in \\mathbb{R},\n",
    "\\frac{\\partial L}{\\partial \\mathbf{\\hat{y}}} \\in \\mathbb{R}^{M},\n",
    "\\frac{\\partial \\mathbf{\\hat{y}}}{\\partial \\mathbf{w}} \\in \\mathbb{R}^{M \\times N},\n",
    "\\frac{\\partial \\mathbf{\\hat{y}}}{\\partial b} \\in \\mathbb{R}^{M}\n",
    "$$"
   ]
  },
  {
   "cell_type": "markdown",
   "id": "52a6ceb3",
   "metadata": {},
   "source": [
    "### weighted sum derivative"
   ]
  },
  {
   "cell_type": "markdown",
   "id": "46842357",
   "metadata": {},
   "source": [
    "$$\n",
    "\\begin{align*}\n",
    "\\mathbf{\\hat{y}} &= \\mathbf{X} \\mathbf{w} + b \\\\\n",
    "&= \\begin{bmatrix}\n",
    "        \\mathbf{x}_{1}^{T} \\\\\n",
    "        \\mathbf{x}_{2}^{T} \\\\\n",
    "        \\vdots \\\\\n",
    "        \\mathbf{x}_{M}^{T} \\\\\n",
    "    \\end{bmatrix} \\mathbf{w} + b \\\\\n",
    "&= \\begin{bmatrix}\n",
    "        \\mathbf{x}_{1}^{T} \\mathbf{w} + b \\\\\n",
    "        \\mathbf{x}_{2}^{T} \\mathbf{w} + b \\\\\n",
    "        \\vdots \\\\\n",
    "        \\mathbf{x}_{M}^{T} \\mathbf{w} + b \\\\\n",
    "    \\end{bmatrix}\n",
    "\\end{align*}\n",
    "$$\n",
    "where\n",
    "$$\n",
    "\\mathbf{x}_{i}^{T} = \\begin{bmatrix}\n",
    "        x_{i1} & x_{i2} & \\cdots & x_{iN}\n",
    "    \\end{bmatrix}\n",
    "$$"
   ]
  },
  {
   "cell_type": "markdown",
   "id": "a57f2219",
   "metadata": {},
   "source": [
    "#### respect to $b$"
   ]
  },
  {
   "cell_type": "markdown",
   "id": "23c7b02a",
   "metadata": {},
   "source": [
    "$$\n",
    "\\begin{align*}\n",
    "\\frac{\\partial \\mathbf{\\hat{y}}}{\\partial b} &= \\begin{bmatrix}\n",
    "    \\frac{\\partial \\hat{y}_{1}}{\\partial b} \\\\\n",
    "    \\frac{\\partial \\hat{y}_{2}}{\\partial b} \\\\\n",
    "    \\vdots \\\\\n",
    "    \\frac{\\partial \\hat{y}_{M}}{\\partial b} \\\\\n",
    "\\end{bmatrix} \\in \\mathbb{R}^{M} \\\\\n",
    "&= \\boldsymbol{1} \n",
    "\\end{align*}\n",
    "$$"
   ]
  },
  {
   "cell_type": "markdown",
   "id": "3ff33ed9",
   "metadata": {},
   "source": [
    "#### respecto to $\\mathbf{w}$"
   ]
  },
  {
   "cell_type": "markdown",
   "id": "a8c46109",
   "metadata": {},
   "source": [
    "$$\n",
    "\\begin{align*}\n",
    "\\frac{\\partial \\mathbf{\\hat{y}}}{\\partial \\mathbf{w}} = \n",
    "\\begin{bmatrix}\n",
    "    \\frac{\\partial \\hat{y}_{1}}{\\partial w_{1}} &\n",
    "    \\frac{\\partial \\hat{y}_{1}}{\\partial w_{2}} &\n",
    "    \\cdots &\n",
    "    \\frac{\\partial \\hat{y}_{1}}{\\partial w_{N}} \\\\\n",
    "    \\frac{\\partial \\hat{y}_{2}}{\\partial w_{1}} &\n",
    "    \\frac{\\partial \\hat{y}_{2}}{\\partial w_{2}} &\n",
    "    \\cdots &\n",
    "    \\frac{\\partial \\hat{y}_{2}}{\\partial w_{N}} \\\\\n",
    "    \\vdots & \\vdots & \\ddots & \\vdots \\\\\n",
    "    \\frac{\\partial \\hat{y}_{M}}{\\partial w_{1}} &\n",
    "    \\frac{\\partial \\hat{y}_{M}}{\\partial w_{2}} &\n",
    "    \\cdots &\n",
    "    \\frac{\\partial \\hat{y}_{M}}{\\partial w_{N}} \\\\\n",
    "\\end{bmatrix}\n",
    "\\end{align*}\n",
    "$$\n",
    "where\n",
    "$$\n",
    "\\begin{align*}\n",
    "\\frac{\\partial \\hat{y}_{i}}{\\partial w_{j}} &=\n",
    "\\frac{\\partial}{\\partial w_{j}} \\left(\n",
    "    x_{i1}w_{1} + x_{i2}w_{2} + \n",
    "    \\cdots + x_{ij}w_{j} + \\cdots +\n",
    "    x_{iN}w_{N}\n",
    "\\right) \\\\\n",
    "&= x_{ij}\n",
    "\\end{align*}\n",
    "$$\n",
    "therefore\n",
    "$$\n",
    "\\begin{align*}\n",
    "\\frac{\\partial \\mathbf{\\hat{y}}}{\\partial \\mathbf{w}} &= \n",
    "\\begin{bmatrix}\n",
    "    x_{11} & x_{12} & \\cdots & x_{1N} \\\\\n",
    "    x_{21} & x_{22} & \\cdots & x_{2N} \\\\\n",
    "    \\vdots & \\vdots & \\ddots & \\vdots \\\\\n",
    "    x_{M1} & x_{M2} & \\cdots & x_{MN} \\\\\n",
    "\\end{bmatrix} \\\\\n",
    "&= \\mathbf{X}\n",
    "\\end{align*}\n",
    "$$"
   ]
  },
  {
   "cell_type": "markdown",
   "id": "70609520",
   "metadata": {},
   "source": [
    "### MSE derivative"
   ]
  },
  {
   "cell_type": "markdown",
   "id": "75368993",
   "metadata": {},
   "source": [
    "$$\n",
    "\\frac{\\partial L}{\\partial \\mathbf{\\hat{y}}} =\n",
    "\\frac{\\partial L}{\\partial \\mathbf{e}}\n",
    "\\frac{\\partial \\mathbf{e}}{\\partial \\mathbf{\\hat{y}}}\n",
    "$$\n",
    "where\n",
    "$$\n",
    "\\frac{\\partial L}{\\partial \\mathbf{e}} \\in \\mathbb{R}^{M},\n",
    "\\frac{\\partial \\mathbf{e}}{\\partial \\mathbf{\\hat{y}}} \\in \\mathbb{R}^{M \\times M}\n",
    "$$"
   ]
  },
  {
   "cell_type": "markdown",
   "id": "8ec9f9f9",
   "metadata": {},
   "source": [
    "#### respecto to $\\mathbf{e}$"
   ]
  },
  {
   "cell_type": "markdown",
   "id": "69113ef7",
   "metadata": {},
   "source": [
    "$$\n",
    "\\begin{align*}\n",
    "L &= \\frac{1}{M} \\left\\| \\mathbf{e} \\right\\|_{2}^{2} \\\\\n",
    "&= \\frac{1}{M} \\left( \\mathbf{e}^{T} \\mathbf{e} \\right) \\\\\n",
    "&= \\frac{1}{M} \\left( e_{1}^{2} + e_{2}^{2} + \\cdots + e_{M}^{2} \\right)\n",
    "\\end{align*}\n",
    "$$\n",
    "then\n",
    "$$\n",
    "\\begin{align*}\n",
    "\\frac{\\partial L}{\\partial \\mathbf{e}} &= \\begin{bmatrix}\n",
    "    \\frac{\\partial L}{\\partial e_{1}} &\n",
    "    \\frac{\\partial L}{\\partial e_{2}} &\n",
    "    \\cdots &\n",
    "    \\frac{\\partial L}{\\partial e_{M}} \\\\\n",
    "\\end{bmatrix}^*\n",
    "\\end{align*}\n",
    "$$\n",
    "***Remark**: This looks like a matrix (or row vector) of shape $\\mathbb{R}^{1 \\times M}$, but the first axis does not add new information, therefore we drop this axis.\n",
    "$$\n",
    "\\begin{align*}\n",
    "\\frac{\\partial L}{\\partial \\mathbf{e}} &= \\begin{bmatrix}\n",
    "    \\frac{\\partial L}{\\partial e_{1}} &\n",
    "    \\frac{\\partial L}{\\partial e_{2}} &\n",
    "    \\cdots &\n",
    "    \\frac{\\partial L}{\\partial e_{M}} \\\\\n",
    "\\end{bmatrix} =\n",
    "\\begin{bmatrix}\n",
    "    \\frac{\\partial L}{\\partial e_{1}} \\\\\n",
    "    \\frac{\\partial L}{\\partial e_{2}} \\\\\n",
    "    \\vdots \\\\\n",
    "    \\frac{\\partial L}{\\partial e_{M}} \\\\\n",
    "\\end{bmatrix} \\in \\mathbb{R}^{M}\n",
    "\\end{align*}\n",
    "$$\n",
    "therefore\n",
    "$$\n",
    "\\begin{align*}\n",
    "\\frac{\\partial L}{\\partial \\mathbf{e}} &= \\frac{2}{M} \\begin{bmatrix}\n",
    "    e_{1} \\\\\n",
    "    e_{2} \\\\\n",
    "    \\vdots \\\\\n",
    "    e_{M}\n",
    "\\end{bmatrix} \\\\\n",
    "&= \\frac{2}{M} \\mathbf{e}\n",
    "\\end{align*}\n",
    "$$"
   ]
  },
  {
   "cell_type": "markdown",
   "id": "6b88dfeb",
   "metadata": {},
   "source": [
    "#### respect to $\\mathbf{\\hat{y}}$"
   ]
  },
  {
   "cell_type": "markdown",
   "id": "9bea2882",
   "metadata": {},
   "source": [
    "$$\n",
    "\\begin{align*}\n",
    "\\mathbf{e} &= \\begin{bmatrix}\n",
    "    \\hat{y}_{1} - y_{1} \\\\\n",
    "    \\hat{y}_{2} - y_{2} \\\\\n",
    "    \\vdots \\\\\n",
    "    \\hat{y}_{M} - y_{M}\n",
    "\\end{bmatrix}\n",
    "\\end{align*}\n",
    "$$\n",
    "then\n",
    "$$\n",
    "\\begin{align*}\n",
    "\\frac{\\partial \\mathbf{e}}{\\partial \\mathbf{\\hat{y}}} &= \\begin{bmatrix}\n",
    "    \\frac{\\partial e_{1}}{\\partial \\hat{y}_{1}} &\n",
    "    \\frac{\\partial e_{1}}{\\partial \\hat{y}_{2}} &\n",
    "    \\cdots &\n",
    "    \\frac{\\partial e_{1}}{\\partial \\hat{y}_{M}} \\\\\n",
    "    \\frac{\\partial e_{2}}{\\partial \\hat{y}_{1}} &\n",
    "    \\frac{\\partial e_{2}}{\\partial \\hat{y}_{2}} &\n",
    "    \\cdots &\n",
    "    \\frac{\\partial e_{2}}{\\partial \\hat{y}_{M}} \\\\\n",
    "    \\vdots & \\vdots & \\ddots & \\vdots \\\\\n",
    "    \\frac{\\partial e_{M}}{\\partial \\hat{y}_{1}} &\n",
    "    \\frac{\\partial e_{M}}{\\partial \\hat{y}_{2}} &\n",
    "    \\cdots &\n",
    "    \\frac{\\partial e_{M}}{\\partial \\hat{y}_{M}} \\\\\n",
    "\\end{bmatrix} \\\\\n",
    "&= \\boldsymbol{I}\n",
    "\\end{align*}\n",
    "$$\n",
    "because the ith row of $\\mathbf{e}$ only depends on the ith row of $\\mathbf{y}$, it does not depend on any other row of $\\mathbf{y}$.\n",
    "$$\n",
    "\\frac{\\partial e_{i}}{\\partial \\hat{y}_{j}} = \\begin{cases}\n",
    "    1 & \\text{ if } i=j \\\\\n",
    "    0 & \\text{ if } i \\neq j\\\\\n",
    "\\end{cases}\n",
    "$$"
   ]
  },
  {
   "cell_type": "markdown",
   "id": "72d2cc85",
   "metadata": {},
   "source": [
    "#### MSE derivative"
   ]
  },
  {
   "cell_type": "markdown",
   "id": "8e44d354",
   "metadata": {},
   "source": [
    "$$\n",
    "\\begin{align*}\n",
    "\\frac{\\partial L}{\\partial \\mathbf{\\hat{y}}} &=\n",
    "{\\color{cyan}\\frac{\\partial L}{\\partial \\mathbf{e}}}\n",
    "{\\color{orange}\\frac{\\partial \\mathbf{e}}{\\partial \\mathbf{\\hat{y}}}} \\\\\n",
    "&= {\\color{cyan}\\frac{2}{M} \\mathbf{e}}\n",
    "{\\color{orange}\\boldsymbol{I}} \\\\\n",
    "&= {\\color{cyan}\\frac{2}{M} (\\mathbf{\\hat{y}} - \\mathbf{y})}\n",
    "\\end{align*}\n",
    "$$"
   ]
  },
  {
   "cell_type": "markdown",
   "id": "91133e77",
   "metadata": {},
   "source": [
    "### summary"
   ]
  },
  {
   "cell_type": "markdown",
   "id": "0603ba7b",
   "metadata": {},
   "source": [
    "$$\n",
    "\\begin{align*}\n",
    "\\nabla_{\\mathbf{w}} L =\n",
    "\\frac{\\partial L}{\\partial \\mathbf{w}} &=\n",
    "{\\color{cyan}\\frac{\\partial L}{\\partial \\mathbf{\\hat{y}}}}\n",
    "{\\color{orange}\\frac{\\partial \\mathbf{\\hat{y}}}{\\partial \\mathbf{w}}} \\\\\n",
    "&= {\\color{cyan}\\frac{2}{M} (\\mathbf{\\hat{y}} - \\mathbf{y})}\n",
    "{\\color{orange}\\mathbf{X}}\n",
    "\\end{align*}\n",
    "$$\n",
    "and\n",
    "$$\n",
    "\\begin{align*}\n",
    "\\nabla_{b} L =\n",
    "\\frac{\\partial L}{\\partial b} &=\n",
    "{\\color{cyan}\\frac{\\partial L}{\\partial \\mathbf{\\hat{y}}}}\n",
    "{\\color{magenta}\\frac{\\partial \\mathbf{\\hat{y}}}{\\partial b}} \\\\\n",
    "&= {\\color{cyan}\\frac{2}{M} (\\mathbf{\\hat{y}} - \\mathbf{y})}\n",
    "{\\color{magenta}\\boldsymbol{1}}\n",
    "\\end{align*}\n",
    "$$"
   ]
  },
  {
   "cell_type": "markdown",
   "id": "434f8839",
   "metadata": {},
   "source": [
    "## Parameters update"
   ]
  },
  {
   "cell_type": "markdown",
   "id": "a199a29d",
   "metadata": {},
   "source": [
    "$$\n",
    "\\begin{align}\n",
    "\\mathbf{w} &\\leftarrow \\mathbf{w} - \\alpha \\nabla_{\\mathbf{w}} L =\n",
    "\\mathbf{w} - \\alpha \\left(\n",
    "    \\frac{2}{M} (\\mathbf{\\hat{y}} - \\mathbf{y}) \\mathbf{X}\n",
    "\\right) \\\\\n",
    "b &\\leftarrow b - \\alpha \\nabla_{b} L =\n",
    "b - \\alpha \\left(\n",
    "    \\frac{2}{M} (\\mathbf{\\hat{y}} - \\mathbf{y}) \\boldsymbol{1}\n",
    "\\right)\n",
    "\\end{align}"
   ]
  },
  {
   "cell_type": "code",
   "execution_count": 10,
   "id": "bf504357",
   "metadata": {},
   "outputs": [],
   "source": [
    "@add_to_class(SimpleLinearRegression)\n",
    "def update(self, x: torch.Tensor, y_true: torch.Tensor,\n",
    "           y_pred: torch.Tensor, lr: float) -> None:\n",
    "    \"\"\"Update the model parameters using gradient descent.\n",
    "\n",
    "    Args:\n",
    "        x: Input tensor of shape (n_samples, num_features).\n",
    "        y_true: Target tensor of shape (n_samples,).\n",
    "        y_pred: Predicted output tensor of shape (n_samples,).\n",
    "        lr: Learning rate.\n",
    "    \"\"\"\n",
    "    delta = 2 * (y_pred - y_true) / len(y_true)\n",
    "    self.w -= lr * torch.dot(delta, x)\n",
    "    #self.b -= lr * torch.dot(delta, torch.ones_like(y_true))\n",
    "    self.b -= lr * delta.sum()"
   ]
  },
  {
   "cell_type": "code",
   "execution_count": null,
   "id": "a7841483",
   "metadata": {},
   "outputs": [],
   "source": [
    "@add_to_class(SimpleLinearRegression)\n",
    "def fit(self)"
   ]
  }
 ],
 "metadata": {
  "kernelspec": {
   "display_name": "Python 3",
   "language": "python",
   "name": "python3"
  },
  "language_info": {
   "codemirror_mode": {
    "name": "ipython",
    "version": 3
   },
   "file_extension": ".py",
   "mimetype": "text/x-python",
   "name": "python",
   "nbconvert_exporter": "python",
   "pygments_lexer": "ipython3",
   "version": "3.11.5"
  }
 },
 "nbformat": 4,
 "nbformat_minor": 5
}
